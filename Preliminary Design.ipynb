{
 "cells": [
  {
   "cell_type": "markdown",
   "metadata": {},
   "source": [
    "# Preliminary Design"
   ]
  },
  {
   "cell_type": "code",
   "execution_count": 15,
   "metadata": {},
   "outputs": [],
   "source": [
    "from environment import Environment\n",
    "from helicopter import Helicopter\n"
   ]
  },
  {
   "cell_type": "markdown",
   "metadata": {},
   "source": [
    "In the hover:\n",
    "$$\n",
    "    \\begin{aligned}\n",
    "        v_h &= \\sqrt{\\frac{T}{2 \\rho A}} \\\\\n",
    "        P &= Tv = \\sqrt{\\frac{T^3}{2 \\rho A}} \\\\\n",
    "    \\end{aligned}\n",
    "$$"
   ]
  },
  {
   "cell_type": "markdown",
   "metadata": {},
   "source": [
    "Choosing some initial constraints:\n",
    "\n",
    "    Max Gross Weight = 5 kg\n",
    "    Rotor Radius = 0.3 m"
   ]
  },
  {
   "cell_type": "code",
   "execution_count": 16,
   "metadata": {},
   "outputs": [],
   "source": [
    "mass = 5\n",
    "radius = 0.3\n"
   ]
  },
  {
   "cell_type": "markdown",
   "metadata": {},
   "source": [
    "Create en environment with standard atmosphere conditions at sea-level and store the data in a structure to keep track of it."
   ]
  },
  {
   "cell_type": "code",
   "execution_count": 17,
   "metadata": {},
   "outputs": [],
   "source": [
    "env = Environment()\n",
    "helo = Helicopter(env, mass, radius)\n"
   ]
  },
  {
   "cell_type": "markdown",
   "metadata": {},
   "source": [
    "Calculating the induced velocity and induced power required in the hover using a basic momentum theory approach:"
   ]
  },
  {
   "cell_type": "code",
   "execution_count": 18,
   "metadata": {},
   "outputs": [
    {
     "name": "stdout",
     "output_type": "stream",
     "text": [
      "8.41473168767596 412.7425892805059\n"
     ]
    }
   ],
   "source": [
    "from momentum_theory import induced_power, induced_velocity\n",
    "\n",
    "\n",
    "vh = helo.calc_induced_velocity(induced_velocity)\n",
    "p = helo.calc_induced_power(induced_power, vh)\n",
    "\n",
    "print(vh, p)\n"
   ]
  },
  {
   "cell_type": "markdown",
   "metadata": {},
   "source": [
    "The lower limit of the power required in the hover is $\\approx$ 420 W."
   ]
  }
 ],
 "metadata": {
  "kernelspec": {
   "display_name": "Python 3.10.6 64-bit ('eng')",
   "language": "python",
   "name": "python3"
  },
  "language_info": {
   "codemirror_mode": {
    "name": "ipython",
    "version": 3
   },
   "file_extension": ".py",
   "mimetype": "text/x-python",
   "name": "python",
   "nbconvert_exporter": "python",
   "pygments_lexer": "ipython3",
   "version": "3.10.6"
  },
  "orig_nbformat": 4,
  "vscode": {
   "interpreter": {
    "hash": "3df6f0f5e867d1d7e83de6ecd3654f0319468a4e13f96808d470ed9611d1b351"
   }
  }
 },
 "nbformat": 4,
 "nbformat_minor": 2
}
