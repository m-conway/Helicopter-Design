{
 "cells": [
  {
   "cell_type": "markdown",
   "metadata": {},
   "source": [
    "# Preliminary Design"
   ]
  },
  {
   "cell_type": "code",
   "execution_count": 7,
   "metadata": {},
   "outputs": [],
   "source": [
    "import numpy as np\n",
    "\n",
    "density = 1.225"
   ]
  },
  {
   "cell_type": "markdown",
   "metadata": {},
   "source": [
    "In the hover:\n",
    "$$\n",
    "    \\begin{aligned}\n",
    "        v_h &= \\sqrt{\\frac{T}{2 \\rho A}} \\\\\n",
    "        P &= Tv = \\sqrt{\\frac{T^3}{2 \\rho A}} \\\\\n",
    "    \\end{aligned}\n",
    "$$"
   ]
  },
  {
   "cell_type": "code",
   "execution_count": 10,
   "metadata": {},
   "outputs": [
    {
     "name": "stdout",
     "output_type": "stream",
     "text": [
      "412.74258928050597\n"
     ]
    }
   ],
   "source": [
    "weight = 5 * 9.81\n",
    "r = 0.3\n",
    "power = np.sqrt(weight**3 / 2 / density / (np.pi * r**2))\n",
    "print(power)"
   ]
  }
 ],
 "metadata": {
  "kernelspec": {
   "display_name": "Python 3.10.6 64-bit ('eng')",
   "language": "python",
   "name": "python3"
  },
  "language_info": {
   "codemirror_mode": {
    "name": "ipython",
    "version": 3
   },
   "file_extension": ".py",
   "mimetype": "text/x-python",
   "name": "python",
   "nbconvert_exporter": "python",
   "pygments_lexer": "ipython3",
   "version": "3.10.6"
  },
  "orig_nbformat": 4,
  "vscode": {
   "interpreter": {
    "hash": "3df6f0f5e867d1d7e83de6ecd3654f0319468a4e13f96808d470ed9611d1b351"
   }
  }
 },
 "nbformat": 4,
 "nbformat_minor": 2
}
